{
  "nbformat": 4,
  "nbformat_minor": 0,
  "metadata": {
    "colab": {
      "provenance": [],
      "gpuType": "T4",
      "mount_file_id": "1osQnQkIXf0zgjjwpFj8Ett8_eEoI2Lsx",
      "authorship_tag": "ABX9TyPfU/WCVs9+JPt6LDqBhOUe",
      "include_colab_link": true
    },
    "kernelspec": {
      "name": "python3",
      "display_name": "Python 3"
    },
    "language_info": {
      "name": "python"
    },
    "accelerator": "GPU"
  },
  "cells": [
    {
      "cell_type": "markdown",
      "metadata": {
        "id": "view-in-github",
        "colab_type": "text"
      },
      "source": [
        "<a href=\"https://colab.research.google.com/github/IvoandricGBC/Project-MLI-GBC/blob/main/distance_estimation_env.ipynb\" target=\"_parent\"><img src=\"https://colab.research.google.com/assets/colab-badge.svg\" alt=\"Open In Colab\"/></a>"
      ]
    },
    {
      "cell_type": "code",
      "source": [
        "import os\n",
        "import pandas as pd\n",
        "import numpy as np\n",
        "from PIL import Image\n",
        "\n",
        "import torch\n",
        "import torch.nn as nn\n",
        "import torch.optim as optim\n",
        "from torch.utils.data import Dataset, DataLoader\n",
        "from torchvision import transforms, models\n",
        "\n",
        "from sklearn.model_selection import train_test_split, KFold\n",
        "from sklearn.metrics import mean_squared_error, mean_absolute_error, r2_score\n",
        "\n",
        "# Dispositivo\n",
        "device = torch.device('cuda' if torch.cuda.is_available() else 'cpu')\n",
        "print('Device:', device)"
      ],
      "metadata": {
        "colab": {
          "base_uri": "https://localhost:8080/"
        },
        "id": "RkJtossEWr6j",
        "outputId": "2d99d415-3235-4109-dbfa-898e1bbb43f3"
      },
      "execution_count": 1,
      "outputs": [
        {
          "output_type": "stream",
          "name": "stdout",
          "text": [
            "Device: cuda\n"
          ]
        }
      ]
    },
    {
      "cell_type": "code",
      "source": [
        "#Módulo B: Carga de Metadatos y Split\n",
        "# Rutas\n",
        "env_name = 'distance_estimation'\n",
        "base_dir = f\"/content/drive/My Drive/Colab Notebooks/{env_name}\"\n",
        "csv_path = os.path.join(base_dir, 'labels.csv')\n",
        "img_dir  = os.path.join(base_dir, 'images')\n",
        "\n",
        "# Leer CSV\n",
        "df = pd.read_csv(csv_path)\n",
        "# Resolver rutas de imagen\n",
        "types = ['.png','.jpg','.jpeg']\n",
        "def resolve_path(id_):\n",
        "    for ext in types:\n",
        "        p = os.path.join(img_dir, f\"{id_}{ext}\")\n",
        "        if os.path.isfile(p): return p\n",
        "    return None\n",
        "\n",
        "df['img_path'] = df['ID'].astype(str).apply(resolve_path)\n",
        "df = df.dropna(subset=['img_path']).reset_index(drop=True)\n",
        "# Normalizar target\n",
        "min_l, max_l = df['label'].min(), df['label'].max()\n",
        "df['label_norm'] = (df['label'] - min_l) / (max_l - min_l)\n",
        "# Split 80/20\n",
        "train_df, val_df = train_test_split(df, test_size=0.2, random_state=42)\n",
        "print('Train/Val sizes:', len(train_df), len(val_df))"
      ],
      "metadata": {
        "colab": {
          "base_uri": "https://localhost:8080/"
        },
        "id": "aG6zxh_cWy8b",
        "outputId": "ee0db04a-1f64-4e8c-df37-caf1e1f30ba6"
      },
      "execution_count": 2,
      "outputs": [
        {
          "output_type": "stream",
          "name": "stdout",
          "text": [
            "Train/Val sizes: 400 100\n"
          ]
        }
      ]
    },
    {
      "cell_type": "code",
      "source": [
        "# Módulo C: Dataset y Transformaciones Ajustadas\n",
        "# Transformaciones suaves\n",
        "def get_image_transform(train=True):\n",
        "    ops = [transforms.Resize((224,224))]\n",
        "    if train:\n",
        "        ops += [transforms.RandomRotation(degrees=2)]\n",
        "    ops += [\n",
        "        transforms.ToTensor(),\n",
        "        transforms.Normalize([0.485,0.456,0.406],[0.229,0.224,0.225])\n",
        "    ]\n",
        "    return transforms.Compose(ops)\n",
        "\n",
        "class RegressionDataset(Dataset):\n",
        "    def __init__(self, df, img_dir, transform):\n",
        "        self.df = df.reset_index(drop=True)\n",
        "        self.img_dir = img_dir\n",
        "        self.transform = transform\n",
        "    def __len__(self): return len(self.df)\n",
        "    def __getitem__(self, idx):\n",
        "        row = self.df.loc[idx]\n",
        "        img = Image.open(row.img_path).convert('RGB')\n",
        "        img = self.transform(img)\n",
        "        meta = torch.tensor([\n",
        "            float(row['class']), float(row['Width']), float(row['location'])\n",
        "        ], dtype=torch.float32)\n",
        "        label = torch.tensor([row['label_norm']], dtype=torch.float32)\n",
        "        return img, meta, label"
      ],
      "metadata": {
        "id": "DaUqoC6pW-Wk"
      },
      "execution_count": 3,
      "outputs": []
    },
    {
      "cell_type": "code",
      "source": [
        "#Módulo D: DataLoaders\n",
        "train_ds = RegressionDataset(train_df, img_dir, get_image_transform(True))\n",
        "val_ds   = RegressionDataset(val_df,   img_dir, get_image_transform(False))\n",
        "train_loader = DataLoader(train_ds, batch_size=16, shuffle=True, num_workers=2)\n",
        "val_loader   = DataLoader(val_ds,   batch_size=16, shuffle=False, num_workers=2)"
      ],
      "metadata": {
        "id": "sl0pge74XbOB"
      },
      "execution_count": 4,
      "outputs": []
    },
    {
      "cell_type": "code",
      "source": [
        "#Módulo E: Modelo Multimodal con BatchNorm y Dropout\n",
        "class MultiModalRegressor(nn.Module):\n",
        "    def __init__(self, img_dim=128, meta_dim=32):\n",
        "        super().__init__()\n",
        "        # CNN backbone\n",
        "        cnn = models.resnet18(weights=models.ResNet18_Weights.IMAGENET1K_V1)\n",
        "        cnn.fc = nn.Linear(cnn.fc.in_features, img_dim)\n",
        "        self.img_enc = cnn\n",
        "        # Metadata MLP\n",
        "        self.meta_enc = nn.Sequential(\n",
        "            nn.Linear(3,64), nn.BatchNorm1d(64), nn.ReLU(), nn.Dropout(0.3),\n",
        "            nn.Linear(64,meta_dim), nn.BatchNorm1d(meta_dim), nn.ReLU()\n",
        "        )\n",
        "        # Cabeza común\n",
        "        self.head = nn.Sequential(\n",
        "            nn.Linear(img_dim+meta_dim,64), nn.BatchNorm1d(64), nn.ReLU(), nn.Dropout(0.3),\n",
        "            nn.Linear(64,1)\n",
        "        )\n",
        "    def forward(self, img, meta):\n",
        "        e1 = self.img_enc(img)\n",
        "        e2 = self.meta_enc(meta)\n",
        "        x  = torch.cat([e1,e2],1)\n",
        "        return self.head(x)\n",
        "\n",
        "model = MultiModalRegressor().to(device)\n",
        "print(model)"
      ],
      "metadata": {
        "colab": {
          "base_uri": "https://localhost:8080/"
        },
        "id": "XWs2a_a0XhLj",
        "outputId": "ace6f7dc-e5e7-471f-ffd2-6f0d8e714143"
      },
      "execution_count": 5,
      "outputs": [
        {
          "output_type": "stream",
          "name": "stdout",
          "text": [
            "MultiModalRegressor(\n",
            "  (img_enc): ResNet(\n",
            "    (conv1): Conv2d(3, 64, kernel_size=(7, 7), stride=(2, 2), padding=(3, 3), bias=False)\n",
            "    (bn1): BatchNorm2d(64, eps=1e-05, momentum=0.1, affine=True, track_running_stats=True)\n",
            "    (relu): ReLU(inplace=True)\n",
            "    (maxpool): MaxPool2d(kernel_size=3, stride=2, padding=1, dilation=1, ceil_mode=False)\n",
            "    (layer1): Sequential(\n",
            "      (0): BasicBlock(\n",
            "        (conv1): Conv2d(64, 64, kernel_size=(3, 3), stride=(1, 1), padding=(1, 1), bias=False)\n",
            "        (bn1): BatchNorm2d(64, eps=1e-05, momentum=0.1, affine=True, track_running_stats=True)\n",
            "        (relu): ReLU(inplace=True)\n",
            "        (conv2): Conv2d(64, 64, kernel_size=(3, 3), stride=(1, 1), padding=(1, 1), bias=False)\n",
            "        (bn2): BatchNorm2d(64, eps=1e-05, momentum=0.1, affine=True, track_running_stats=True)\n",
            "      )\n",
            "      (1): BasicBlock(\n",
            "        (conv1): Conv2d(64, 64, kernel_size=(3, 3), stride=(1, 1), padding=(1, 1), bias=False)\n",
            "        (bn1): BatchNorm2d(64, eps=1e-05, momentum=0.1, affine=True, track_running_stats=True)\n",
            "        (relu): ReLU(inplace=True)\n",
            "        (conv2): Conv2d(64, 64, kernel_size=(3, 3), stride=(1, 1), padding=(1, 1), bias=False)\n",
            "        (bn2): BatchNorm2d(64, eps=1e-05, momentum=0.1, affine=True, track_running_stats=True)\n",
            "      )\n",
            "    )\n",
            "    (layer2): Sequential(\n",
            "      (0): BasicBlock(\n",
            "        (conv1): Conv2d(64, 128, kernel_size=(3, 3), stride=(2, 2), padding=(1, 1), bias=False)\n",
            "        (bn1): BatchNorm2d(128, eps=1e-05, momentum=0.1, affine=True, track_running_stats=True)\n",
            "        (relu): ReLU(inplace=True)\n",
            "        (conv2): Conv2d(128, 128, kernel_size=(3, 3), stride=(1, 1), padding=(1, 1), bias=False)\n",
            "        (bn2): BatchNorm2d(128, eps=1e-05, momentum=0.1, affine=True, track_running_stats=True)\n",
            "        (downsample): Sequential(\n",
            "          (0): Conv2d(64, 128, kernel_size=(1, 1), stride=(2, 2), bias=False)\n",
            "          (1): BatchNorm2d(128, eps=1e-05, momentum=0.1, affine=True, track_running_stats=True)\n",
            "        )\n",
            "      )\n",
            "      (1): BasicBlock(\n",
            "        (conv1): Conv2d(128, 128, kernel_size=(3, 3), stride=(1, 1), padding=(1, 1), bias=False)\n",
            "        (bn1): BatchNorm2d(128, eps=1e-05, momentum=0.1, affine=True, track_running_stats=True)\n",
            "        (relu): ReLU(inplace=True)\n",
            "        (conv2): Conv2d(128, 128, kernel_size=(3, 3), stride=(1, 1), padding=(1, 1), bias=False)\n",
            "        (bn2): BatchNorm2d(128, eps=1e-05, momentum=0.1, affine=True, track_running_stats=True)\n",
            "      )\n",
            "    )\n",
            "    (layer3): Sequential(\n",
            "      (0): BasicBlock(\n",
            "        (conv1): Conv2d(128, 256, kernel_size=(3, 3), stride=(2, 2), padding=(1, 1), bias=False)\n",
            "        (bn1): BatchNorm2d(256, eps=1e-05, momentum=0.1, affine=True, track_running_stats=True)\n",
            "        (relu): ReLU(inplace=True)\n",
            "        (conv2): Conv2d(256, 256, kernel_size=(3, 3), stride=(1, 1), padding=(1, 1), bias=False)\n",
            "        (bn2): BatchNorm2d(256, eps=1e-05, momentum=0.1, affine=True, track_running_stats=True)\n",
            "        (downsample): Sequential(\n",
            "          (0): Conv2d(128, 256, kernel_size=(1, 1), stride=(2, 2), bias=False)\n",
            "          (1): BatchNorm2d(256, eps=1e-05, momentum=0.1, affine=True, track_running_stats=True)\n",
            "        )\n",
            "      )\n",
            "      (1): BasicBlock(\n",
            "        (conv1): Conv2d(256, 256, kernel_size=(3, 3), stride=(1, 1), padding=(1, 1), bias=False)\n",
            "        (bn1): BatchNorm2d(256, eps=1e-05, momentum=0.1, affine=True, track_running_stats=True)\n",
            "        (relu): ReLU(inplace=True)\n",
            "        (conv2): Conv2d(256, 256, kernel_size=(3, 3), stride=(1, 1), padding=(1, 1), bias=False)\n",
            "        (bn2): BatchNorm2d(256, eps=1e-05, momentum=0.1, affine=True, track_running_stats=True)\n",
            "      )\n",
            "    )\n",
            "    (layer4): Sequential(\n",
            "      (0): BasicBlock(\n",
            "        (conv1): Conv2d(256, 512, kernel_size=(3, 3), stride=(2, 2), padding=(1, 1), bias=False)\n",
            "        (bn1): BatchNorm2d(512, eps=1e-05, momentum=0.1, affine=True, track_running_stats=True)\n",
            "        (relu): ReLU(inplace=True)\n",
            "        (conv2): Conv2d(512, 512, kernel_size=(3, 3), stride=(1, 1), padding=(1, 1), bias=False)\n",
            "        (bn2): BatchNorm2d(512, eps=1e-05, momentum=0.1, affine=True, track_running_stats=True)\n",
            "        (downsample): Sequential(\n",
            "          (0): Conv2d(256, 512, kernel_size=(1, 1), stride=(2, 2), bias=False)\n",
            "          (1): BatchNorm2d(512, eps=1e-05, momentum=0.1, affine=True, track_running_stats=True)\n",
            "        )\n",
            "      )\n",
            "      (1): BasicBlock(\n",
            "        (conv1): Conv2d(512, 512, kernel_size=(3, 3), stride=(1, 1), padding=(1, 1), bias=False)\n",
            "        (bn1): BatchNorm2d(512, eps=1e-05, momentum=0.1, affine=True, track_running_stats=True)\n",
            "        (relu): ReLU(inplace=True)\n",
            "        (conv2): Conv2d(512, 512, kernel_size=(3, 3), stride=(1, 1), padding=(1, 1), bias=False)\n",
            "        (bn2): BatchNorm2d(512, eps=1e-05, momentum=0.1, affine=True, track_running_stats=True)\n",
            "      )\n",
            "    )\n",
            "    (avgpool): AdaptiveAvgPool2d(output_size=(1, 1))\n",
            "    (fc): Linear(in_features=512, out_features=128, bias=True)\n",
            "  )\n",
            "  (meta_enc): Sequential(\n",
            "    (0): Linear(in_features=3, out_features=64, bias=True)\n",
            "    (1): BatchNorm1d(64, eps=1e-05, momentum=0.1, affine=True, track_running_stats=True)\n",
            "    (2): ReLU()\n",
            "    (3): Dropout(p=0.3, inplace=False)\n",
            "    (4): Linear(in_features=64, out_features=32, bias=True)\n",
            "    (5): BatchNorm1d(32, eps=1e-05, momentum=0.1, affine=True, track_running_stats=True)\n",
            "    (6): ReLU()\n",
            "  )\n",
            "  (head): Sequential(\n",
            "    (0): Linear(in_features=160, out_features=64, bias=True)\n",
            "    (1): BatchNorm1d(64, eps=1e-05, momentum=0.1, affine=True, track_running_stats=True)\n",
            "    (2): ReLU()\n",
            "    (3): Dropout(p=0.3, inplace=False)\n",
            "    (4): Linear(in_features=64, out_features=1, bias=True)\n",
            "  )\n",
            ")\n"
          ]
        }
      ]
    },
    {
      "cell_type": "code",
      "source": [
        "#Módulo F: Módulo F: Entrenamiento Inicial + Scheduler\n",
        "# Funciones de loop\n",
        "def train_epoch(mdl, loader, crit, opt):\n",
        "    mdl.train(); running=0\n",
        "    for imgs, metas, labels in loader:\n",
        "        imgs, metas, labels = imgs.to(device), metas.to(device), labels.to(device)\n",
        "        preds = mdl(imgs, metas)\n",
        "        loss = crit(preds, labels)\n",
        "        opt.zero_grad(); loss.backward(); opt.step()\n",
        "        running += loss.item()*imgs.size(0)\n",
        "    return running/len(loader.dataset)\n",
        "\n",
        "\n",
        "def eval_epoch(mdl, loader, crit):\n",
        "    mdl.eval(); running=0; ps, ls = [], []\n",
        "    with torch.no_grad():\n",
        "        for imgs, metas, labels in loader:\n",
        "            imgs, metas, labels = imgs.to(device), metas.to(device), labels.to(device)\n",
        "            preds=mdl(imgs,metas)\n",
        "            running+=crit(preds,labels).item()*imgs.size(0)\n",
        "            ps.append(preds.cpu().numpy()); ls.append(labels.cpu().numpy())\n",
        "    p=np.concatenate(ps).flatten(); l=np.concatenate(ls).flatten()\n",
        "    return (running/len(loader.dataset), mean_squared_error(l,p), mean_absolute_error(l,p), r2_score(l,p))\n",
        "\n",
        "criterion = nn.MSELoss()\n",
        "optimizer = optim.Adam(model.parameters(), lr=1e-4)\n",
        "scheduler = optim.lr_scheduler.ReduceLROnPlateau(optimizer, mode='min', factor=0.7, patience=2)\n",
        "\n",
        "epochs = 20\n",
        "for ep in range(1,epochs+1):\n",
        "    tr_loss = train_epoch(model, train_loader, criterion, optimizer)\n",
        "    val_loss,mse,mae,r2 = eval_epoch(model, val_loader, criterion)\n",
        "    scheduler.step(val_loss)\n",
        "    print(f\"Epoch {ep:02d} | Train: {tr_loss:.4f} | Val: {val_loss:.4f} | MAE: {mae:.4f} | R2: {r2:.4f}\")\n"
      ],
      "metadata": {
        "colab": {
          "base_uri": "https://localhost:8080/"
        },
        "id": "ffXpfIy9XpUp",
        "outputId": "912afe3a-a177-4f90-e5cc-fb673c93ef0e"
      },
      "execution_count": 6,
      "outputs": [
        {
          "output_type": "stream",
          "name": "stdout",
          "text": [
            "Epoch 01 | Train: 0.2145 | Val: 0.0982 | MAE: 0.2720 | R2: -1.0314\n",
            "Epoch 02 | Train: 0.1395 | Val: 0.1083 | MAE: 0.3022 | R2: -1.2402\n",
            "Epoch 03 | Train: 0.1122 | Val: 0.0175 | MAE: 0.1060 | R2: 0.6381\n",
            "Epoch 04 | Train: 0.1190 | Val: 0.0436 | MAE: 0.1930 | R2: 0.0986\n",
            "Epoch 05 | Train: 0.1090 | Val: 0.0168 | MAE: 0.1061 | R2: 0.6521\n",
            "Epoch 06 | Train: 0.1072 | Val: 0.0216 | MAE: 0.1299 | R2: 0.5526\n",
            "Epoch 07 | Train: 0.0848 | Val: 0.0104 | MAE: 0.0796 | R2: 0.7840\n",
            "Epoch 08 | Train: 0.0865 | Val: 0.0202 | MAE: 0.1280 | R2: 0.5813\n",
            "Epoch 09 | Train: 0.0793 | Val: 0.0064 | MAE: 0.0664 | R2: 0.8678\n",
            "Epoch 10 | Train: 0.0806 | Val: 0.0090 | MAE: 0.0778 | R2: 0.8138\n",
            "Epoch 11 | Train: 0.0744 | Val: 0.0063 | MAE: 0.0643 | R2: 0.8703\n",
            "Epoch 12 | Train: 0.0661 | Val: 0.0091 | MAE: 0.0832 | R2: 0.8119\n",
            "Epoch 13 | Train: 0.0623 | Val: 0.0038 | MAE: 0.0491 | R2: 0.9212\n",
            "Epoch 14 | Train: 0.0647 | Val: 0.0044 | MAE: 0.0552 | R2: 0.9082\n",
            "Epoch 15 | Train: 0.0661 | Val: 0.0163 | MAE: 0.1072 | R2: 0.6629\n",
            "Epoch 16 | Train: 0.0696 | Val: 0.0128 | MAE: 0.0934 | R2: 0.7345\n",
            "Epoch 17 | Train: 0.0650 | Val: 0.0076 | MAE: 0.0711 | R2: 0.8429\n",
            "Epoch 18 | Train: 0.0557 | Val: 0.0071 | MAE: 0.0680 | R2: 0.8528\n",
            "Epoch 19 | Train: 0.0499 | Val: 0.0089 | MAE: 0.0756 | R2: 0.8156\n",
            "Epoch 20 | Train: 0.0556 | Val: 0.0038 | MAE: 0.0499 | R2: 0.9218\n"
          ]
        }
      ]
    },
    {
      "cell_type": "code",
      "source": [
        "#Módulo G: Fine-Tuning de layer4 con Batch=8\n",
        "for name,param in model.img_enc.named_parameters():\n",
        "    param.requires_grad = 'layer4' in name\n",
        "\n",
        "optimizer_ft = optim.Adam(filter(lambda p: p.requires_grad, model.parameters()), lr=5e-6)\n",
        "train_loader_ft = DataLoader(train_ds, batch_size=8, shuffle=True)\n",
        "\n",
        "fine_epochs=10\n",
        "for ep in range(1,fine_epochs+1):\n",
        "    tr_loss = train_epoch(model, train_loader_ft, criterion, optimizer_ft)\n",
        "    val_loss,mse,mae,r2 = eval_epoch(model, val_loader, criterion)\n",
        "    print(f\"FT {ep:02d} | Train: {tr_loss:.4f} | Val: {val_loss:.4f} | MAE: {mae:.4f} | R2: {r2:.4f}\")"
      ],
      "metadata": {
        "colab": {
          "base_uri": "https://localhost:8080/"
        },
        "id": "onssGuAHeVFO",
        "outputId": "39dd7e58-dce1-4b78-f938-9c10b0ea3c33"
      },
      "execution_count": 7,
      "outputs": [
        {
          "output_type": "stream",
          "name": "stdout",
          "text": [
            "FT 01 | Train: 0.0639 | Val: 0.0046 | MAE: 0.0578 | R2: 0.9054\n",
            "FT 02 | Train: 0.0605 | Val: 0.0036 | MAE: 0.0501 | R2: 0.9263\n",
            "FT 03 | Train: 0.0570 | Val: 0.0047 | MAE: 0.0533 | R2: 0.9037\n",
            "FT 04 | Train: 0.0528 | Val: 0.0037 | MAE: 0.0479 | R2: 0.9227\n",
            "FT 05 | Train: 0.0520 | Val: 0.0065 | MAE: 0.0627 | R2: 0.8662\n",
            "FT 06 | Train: 0.0526 | Val: 0.0061 | MAE: 0.0615 | R2: 0.8743\n",
            "FT 07 | Train: 0.0500 | Val: 0.0048 | MAE: 0.0534 | R2: 0.9014\n",
            "FT 08 | Train: 0.0557 | Val: 0.0034 | MAE: 0.0474 | R2: 0.9291\n",
            "FT 09 | Train: 0.0587 | Val: 0.0036 | MAE: 0.0472 | R2: 0.9260\n",
            "FT 10 | Train: 0.0524 | Val: 0.0042 | MAE: 0.0514 | R2: 0.9126\n"
          ]
        }
      ]
    },
    {
      "cell_type": "code",
      "source": [
        "#Módulo H: EarlyStopping Estricto\n",
        "best_val, best_state = float('inf'), None\n",
        "patience, trials = 2, 0\n",
        "for ep in range(1,fine_epochs+1):\n",
        "    tr_loss = train_epoch(model, train_loader_ft, criterion, optimizer_ft)\n",
        "    val_loss,_,mae,r2 = eval_epoch(model, val_loader, criterion)\n",
        "    print(f\"ES {ep:02d} | Val: {val_loss:.4f} | MAE: {mae:.4f} | R2: {r2:.4f}\")\n",
        "    if val_loss < best_val:\n",
        "        best_val, best_state, trials = val_loss, model.state_dict(), 0\n",
        "    else:\n",
        "        trials += 1\n",
        "        if trials >= patience:\n",
        "            print(\"EarlyStopping: deteniendo FT.\")\n",
        "            break\n",
        "model.load_state_dict(best_state)"
      ],
      "metadata": {
        "colab": {
          "base_uri": "https://localhost:8080/"
        },
        "id": "PgX7mirdecdu",
        "outputId": "c9685860-115d-4fc9-a081-1bc904daf02f"
      },
      "execution_count": 8,
      "outputs": [
        {
          "output_type": "stream",
          "name": "stdout",
          "text": [
            "ES 01 | Val: 0.0053 | MAE: 0.0580 | R2: 0.8900\n",
            "ES 02 | Val: 0.0033 | MAE: 0.0455 | R2: 0.9313\n",
            "ES 03 | Val: 0.0044 | MAE: 0.0517 | R2: 0.9097\n",
            "ES 04 | Val: 0.0034 | MAE: 0.0472 | R2: 0.9304\n",
            "EarlyStopping: deteniendo FT.\n"
          ]
        },
        {
          "output_type": "execute_result",
          "data": {
            "text/plain": [
              "<All keys matched successfully>"
            ]
          },
          "metadata": {},
          "execution_count": 8
        }
      ]
    },
    {
      "cell_type": "code",
      "source": [
        "#Módulo I: Visualizaciones de Validación\n",
        "import matplotlib.pyplot as plt\n",
        "\n",
        "# Scatter y residual global\n",
        "model.eval(); ps, ls = [], []\n",
        "with torch.no_grad():\n",
        "    for imgs, metas, labels in val_loader:\n",
        "        p = model(imgs.to(device), metas.to(device)).cpu().numpy().flatten()\n",
        "        ps.extend(p); ls.extend(labels.numpy().flatten())\n",
        "plt.figure(); plt.scatter(ls, ps, alpha=0.5); plt.plot([0,1],[0,1],'r--'); plt.title('True vs Pred'); plt.show()\n",
        "res=np.array(ls)-np.array(ps)\n",
        "plt.figure(); plt.scatter(ps, res, alpha=0.5); plt.axhline(0,linestyle='--',color='r'); plt.title('Residual'); plt.show()\n",
        "\n",
        "# MAE por bin\n",
        "bins = [0.0,0.3,0.6,1.0]\n",
        "inds = np.digitize(ls, bins)-1\n",
        "for i in range(len(bins)-1):\n",
        "    mask = inds==i\n",
        "    print(f\"Bin {bins[i]}-{bins[i+1]}: MAE={mean_absolute_error(np.array(ls)[mask],np.array(ps)[mask]):.4f}\")\n"
      ],
      "metadata": {
        "colab": {
          "base_uri": "https://localhost:8080/",
          "height": 939
        },
        "id": "1ZVr2vrqfeb3",
        "outputId": "5834c69f-0032-4cbd-9599-bf9cfb99190d"
      },
      "execution_count": 9,
      "outputs": [
        {
          "output_type": "display_data",
          "data": {
            "text/plain": [
              "<Figure size 640x480 with 1 Axes>"
            ],
            "image/png": "[encoded data removed]"
          },
          "metadata": {}
        },
        {
          "output_type": "display_data",
          "data": {
            "text/plain": [
              "<Figure size 640x480 with 1 Axes>"
            ],
            "image/png": "[encoded data removed]"
          },
          "metadata": {}
        },
        {
          "output_type": "stream",
          "name": "stdout",
          "text": [
            "Bin 0.0-0.3: MAE=0.0458\n",
            "Bin 0.3-0.6: MAE=0.0488\n",
            "Bin 0.6-1.0: MAE=0.0455\n"
          ]
        }
      ]
    },
    {
      "cell_type": "code",
      "source": [
        "#Módulo J: 5-Fold Cross-Validation con Pipeline Final\n",
        "kf = KFold(5, shuffle=True, random_state=42)\n",
        "cv_metrics=[]\n",
        "for i,(ti,vi) in enumerate(kf.split(df)):\n",
        "    df_tr, df_va = df.iloc[ti], df.iloc[vi]\n",
        "    tr_ds = RegressionDataset(df_tr,img_dir,get_image_transform(True))\n",
        "    va_ds = RegressionDataset(df_va,img_dir,get_image_transform(False))\n",
        "    tr_ld = DataLoader(tr_ds,16,True); va_ld = DataLoader(va_ds,16,False)\n",
        "\n",
        "    mdl = MultiModalRegressor().to(device)\n",
        "    opt = optim.Adam(mdl.parameters(), lr=1e-4)\n",
        "    crit=nn.MSELoss()\n",
        "    sch = optim.lr_scheduler.ReduceLROnPlateau(opt, mode='min', factor=0.7, patience=2)\n",
        "\n",
        "    # entrenamiento + FT + ES\n",
        "    # inicial\n",
        "    for ep in range(10):\n",
        "        train_epoch(mdl, tr_ld, crit, opt)\n",
        "        val_loss,_,_,_ = eval_epoch(mdl, va_ld, crit)\n",
        "        sch.step(val_loss)\n",
        "    # FT\n",
        "    for name,param in mdl.img_enc.named_parameters(): param.requires_grad='layer4'in name\n",
        "    opt_ft = optim.Adam(filter(lambda p:p.requires_grad, mdl.parameters()), lr=5e-6)\n",
        "    best_val, trials = float('inf'),0\n",
        "    for ep in range(10):\n",
        "        train_epoch(mdl, DataLoader(tr_ds,8,True), crit, opt_ft)\n",
        "        vl,_,mae,r2 = eval_epoch(mdl, va_ld, crit)\n",
        "        if vl<best_val: best_val, best_state, trials = vl, mdl.state_dict(),0\n",
        "        else:\n",
        "            trials+=1\n",
        "            if trials>=2: break\n",
        "    mdl.load_state_dict(best_state)\n",
        "\n",
        "    _,m,ma,r = eval_epoch(mdl, va_ld, crit)\n",
        "    print(f\"Fold{i+1}: MAE={ma:.4f}, R2={r:.4f}\")\n",
        "    cv_metrics.append((m,ma,r))\n",
        "\n",
        "cv = np.array(cv_metrics)\n",
        "print(\"CV mean MAE, R2:\", cv[:,1].mean(), cv[:,2].mean())"
      ],
      "metadata": {
        "colab": {
          "base_uri": "https://localhost:8080/"
        },
        "id": "9iSD77RWhJHf",
        "outputId": "ee2ec4da-5434-4f15-ab1a-6b321038f851"
      },
      "execution_count": 10,
      "outputs": [
        {
          "output_type": "stream",
          "name": "stdout",
          "text": [
            "Fold1: MAE=0.1625, R2=0.3844\n",
            "Fold2: MAE=0.0815, R2=0.7700\n",
            "Fold3: MAE=0.1177, R2=0.6087\n",
            "Fold4: MAE=0.1074, R2=0.6911\n",
            "Fold5: MAE=0.0530, R2=0.9142\n",
            "CV mean MAE, R2: 0.10441621765494347 0.6736817479133606\n"
          ]
        }
      ]
    },
    {
      "cell_type": "code",
      "source": [
        "# Ruta para guardar el mejor modelo\n",
        "MODEL_PATH = \"/content/drive/My Drive/Colab Notebooks/distance_estimation/best_model.pth\"\n",
        "\n",
        "# Guardar solo pesos\n",
        "torch.save(model.state_dict(), MODEL_PATH)\n",
        "print(f\"Modelo guardado en {MODEL_PATH}\")\n",
        "\n",
        "# Para cargar más tarde:\n",
        "# 1) Reconstruir arquitectura exacta\n",
        "test_model = MultiModalRegressor().to(device)\n",
        "# 2) Cargar pesos\n",
        "test_model.load_state_dict(torch.load(MODEL_PATH))\n",
        "# 3) Modo evaluación\n",
        "test_model.eval()\n",
        "print(\"Modelo cargado y listo para inferencia\")"
      ],
      "metadata": {
        "colab": {
          "base_uri": "https://localhost:8080/"
        },
        "id": "9Vap92Nb0rqQ",
        "outputId": "0f4f083d-6100-4ca2-cadb-f2ee974a6fb4"
      },
      "execution_count": 11,
      "outputs": [
        {
          "output_type": "stream",
          "name": "stdout",
          "text": [
            "Modelo guardado en /content/drive/My Drive/Colab Notebooks/distance_estimation/best_model.pth\n",
            "Modelo cargado y listo para inferencia\n"
          ]
        }
      ]
    },
    {
      "cell_type": "code",
      "source": [
        "import pandas as pd\n",
        "import torch\n",
        "from torch.utils.data import DataLoader\n",
        "from PIL import Image\n",
        "from torchvision import transforms\n",
        "\n",
        "# 1) Recrea df, img_dir y dispositivo\n",
        "#    (asegúrate de ejecutar primero los módulos A y B del pipeline)\n",
        "# 2) Vuelve a definir la clase MultiModalRegressor y cargar el modelo:\n",
        "\n",
        "MODEL_PATH = \"/content/drive/My Drive/Colab Notebooks/distance_estimation/best_model.pth\"\n",
        "model = MultiModalRegressor().to(device)\n",
        "model.load_state_dict(torch.load(MODEL_PATH))\n",
        "model.eval()\n",
        "\n",
        "# 3) Toma 50 ejemplos aleatorios\n",
        "sample_df = df.sample(n=50, random_state=42).reset_index(drop=True)\n",
        "\n",
        "# 4) Transformación de inferencia\n",
        "infer_transform = transforms.Compose([\n",
        "    transforms.Resize((224,224)),\n",
        "    transforms.ToTensor(),\n",
        "    transforms.Normalize([0.485,0.456,0.406],[0.229,0.224,0.225])\n",
        "])\n",
        "\n",
        "# 5) Dataset de inferencia\n",
        "class InferDataset(torch.utils.data.Dataset):\n",
        "    def __init__(self, df, img_dir, transform):\n",
        "        self.df = df\n",
        "        self.img_dir = img_dir\n",
        "        self.transform = transform\n",
        "    def __len__(self):\n",
        "        return len(self.df)\n",
        "    def __getitem__(self, idx):\n",
        "        row = self.df.loc[idx]\n",
        "        img = Image.open(row.img_path).convert('RGB')\n",
        "        img = self.transform(img)\n",
        "        meta = torch.tensor([\n",
        "            float(row['class']),\n",
        "            float(row['Width']),\n",
        "            float(row['location'])\n",
        "        ], dtype=torch.float32)\n",
        "        label = float(row['label_norm'])\n",
        "        return img, meta, label, row['ID']\n",
        "\n",
        "inf_ds = InferDataset(sample_df, img_dir, infer_transform)\n",
        "inf_loader = DataLoader(inf_ds, batch_size=8, shuffle=False)\n",
        "\n",
        "# 6) Inferencia y recopilación\n",
        "results = []\n",
        "with torch.no_grad():\n",
        "    for imgs, metas, labels, ids in inf_loader:\n",
        "        imgs = imgs.to(device)\n",
        "        metas = metas.to(device)\n",
        "        preds = model(imgs, metas).cpu().numpy().flatten()\n",
        "        for img_id, true, pred in zip(ids, labels, preds):\n",
        "            results.append({\n",
        "                'ID': img_id,\n",
        "                'label_norm_true': true,\n",
        "                'label_norm_pred': float(pred),\n",
        "                'error': abs(true - pred)\n",
        "            })\n",
        "\n",
        "res_df = pd.DataFrame(results)\n",
        "# Después de recopilar true y pred en label_norm:\n",
        "\n",
        "results = []\n",
        "with torch.no_grad():\n",
        "    for imgs, metas, labels, ids in inf_loader:\n",
        "        imgs = imgs.to(device)\n",
        "        metas = metas.to(device)\n",
        "        preds_norm = model(imgs, metas).cpu().numpy().flatten()\n",
        "        for img_id, true_norm, pred_norm in zip(ids, labels, preds_norm):\n",
        "            # Desnormalizar\n",
        "            true_orig = true_norm * (max_l - min_l) + min_l\n",
        "            pred_orig = pred_norm * (max_l - min_l) + min_l\n",
        "            results.append({\n",
        "                'ID': img_id,\n",
        "                'label_true': true_orig,\n",
        "                'label_pred': pred_orig,\n",
        "                'error': abs(true_orig - pred_orig)\n",
        "            })\n",
        "\n",
        "res_df = pd.DataFrame(results)\n",
        "# Después de recopilar true y pred en label_norm:\n",
        "\n",
        "results = []\n",
        "with torch.no_grad():\n",
        "    for imgs, metas, labels, ids in inf_loader:\n",
        "        imgs = imgs.to(device)\n",
        "        metas = metas.to(device)\n",
        "        preds_norm = model(imgs, metas).cpu().numpy().flatten()\n",
        "        for img_id, true_norm, pred_norm in zip(ids, labels, preds_norm):\n",
        "            # Desnormalizar\n",
        "            true_orig = true_norm * (max_l - min_l) + min_l\n",
        "            pred_orig = pred_norm * (max_l - min_l) + min_l\n",
        "            results.append({\n",
        "                'ID': img_id,\n",
        "                'label_true': true_orig,\n",
        "                'label_pred': pred_orig,\n",
        "                'error': abs(true_orig - pred_orig)\n",
        "            })\n",
        "\n",
        "res_df = pd.DataFrame(results)\n",
        "\n",
        "# Después de recopilar true y pred en label_norm:\n",
        "\n",
        "results = []\n",
        "with torch.no_grad():\n",
        "    for imgs, metas, labels, ids in inf_loader:\n",
        "        imgs = imgs.to(device)\n",
        "        metas = metas.to(device)\n",
        "        preds_norm = model(imgs, metas).cpu().numpy().flatten()\n",
        "        for img_id, true_norm, pred_norm in zip(ids, labels, preds_norm):\n",
        "            # Desnormalizar\n",
        "            true_orig = true_norm * (max_l - min_l) + min_l\n",
        "            pred_orig = pred_norm * (max_l - min_l) + min_l\n",
        "            results.append({\n",
        "                'ID': img_id,\n",
        "                'label_true': true_orig,\n",
        "                'label_pred': pred_orig,\n",
        "                'error': abs(true_orig - pred_orig)\n",
        "            })\n",
        "\n",
        "res_df = pd.DataFrame(results)\n",
        "\n",
        "# Mostrar como Markdown\n",
        "from IPython.display import display, Markdown\n",
        "md = res_df.to_markdown(index=False)\n",
        "display(Markdown(\"### Comparativa etiqueta vs predicción (desnormalizadas)\"))\n",
        "display(Markdown(md))\n",
        "\n",
        "\n"
      ],
      "metadata": {
        "colab": {
          "base_uri": "https://localhost:8080/",
          "height": 1000
        },
        "id": "TRTAOpQo2lZI",
        "outputId": "e1f945eb-fdf2-46b6-98df-ae76a2334c3d"
      },
      "execution_count": 16,
      "outputs": [
        {
          "output_type": "display_data",
          "data": {
            "text/plain": [
              "<IPython.core.display.Markdown object>"
            ],
            "text/markdown": "### Comparativa etiqueta vs predicción (desnormalizadas)"
          },
          "metadata": {}
        },
        {
          "output_type": "display_data",
          "data": {
            "text/plain": [
              "<IPython.core.display.Markdown object>"
            ],
            "text/markdown": "|   ID |   label_true |   label_pred |     error |\n|-----:|-------------:|-------------:|----------:|\n|  361 |           28 |      27.7506 | 0.249367  |\n|   73 |           58 |      51.6133 | 6.38671   |\n|  374 |           65 |      69.4566 | 4.4566    |\n|  155 |           61 |      62.368  | 1.36803   |\n|  104 |           39 |      35.5642 | 3.43575   |\n|  394 |           33 |      30.0415 | 2.95847   |\n|  377 |           54 |      49.4244 | 4.57557   |\n|  124 |           35 |      31.3042 | 3.69578   |\n|   68 |           48 |      43.0165 | 4.98347   |\n|  450 |           73 |      77.0281 | 4.02806   |\n|    9 |           53 |      49.157  | 3.84296   |\n|  194 |           31 |      27.8523 | 3.14774   |\n|  406 |           46 |      43.5396 | 2.46041   |\n|   84 |           55 |      49.033  | 5.96699   |\n|  371 |           20 |      12.9033 | 7.09674   |\n|  388 |           39 |      35.2052 | 3.79482   |\n|  495 |           36 |      31.2732 | 4.72679   |\n|   30 |           34 |      35.937  | 1.937     |\n|  316 |           33 |      26.7294 | 6.27058   |\n|  408 |           14 |      12.1923 | 1.8077    |\n|  490 |           34 |      36.2192 | 2.21922   |\n|  491 |           40 |      40.0728 | 0.0727768 |\n|  280 |           44 |      46.8263 | 2.82626   |\n|  356 |           46 |      43.2933 | 2.70671   |\n|   76 |           69 |      69.915  | 0.915009  |\n|  461 |           15 |      12.4073 | 2.5927    |\n|  497 |           27 |      29.8017 | 2.80174   |\n|  211 |           16 |      17.4094 | 1.40936   |\n|  101 |           53 |      47.527  | 5.47301   |\n|  334 |           31 |      28.7583 | 2.24174   |\n|  475 |           68 |      68.4952 | 0.495171  |\n|  336 |           13 |      10.8945 | 2.10551   |\n|  440 |           44 |      47.2551 | 3.25512   |\n|  173 |           67 |      66.8729 | 0.12709   |\n|    2 |           54 |      47.3878 | 6.61219   |\n|  333 |           40 |      37.1217 | 2.87826   |\n|  409 |           42 |      39.4331 | 2.56688   |\n|   70 |           66 |      64.3273 | 1.67265   |\n|  209 |           35 |      32.1743 | 2.82568   |\n|   63 |           16 |      12.3591 | 3.64086   |\n|  384 |           65 |      66.5078 | 1.50775   |\n|   93 |           20 |      13.1635 | 6.83652   |\n|  485 |           44 |      46.3914 | 2.39139   |\n|  185 |           35 |      39.437  | 4.43703   |\n|   33 |           29 |      22.9109 | 6.08914   |\n|   77 |           58 |      57.0499 | 0.950066  |\n|    0 |           48 |      48.5513 | 0.551342  |\n|   11 |           35 |      33.7298 | 1.27024   |\n|  415 |           31 |      29.2761 | 1.72392   |\n|   22 |           55 |      55.5748 | 0.574795  |"
          },
          "metadata": {}
        }
      ]
    }
  ]
}