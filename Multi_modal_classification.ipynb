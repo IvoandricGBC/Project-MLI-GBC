{
  "cells": [
    {
      "cell_type": "markdown",
      "metadata": {
        "id": "view-in-github",
        "colab_type": "text"
      },
      "source": [
        "<a href=\"https://colab.research.google.com/github/IvoandricGBC/Project-MLI-GBC/blob/main/Multi_modal_classification.ipynb\" target=\"_parent\"><img src=\"https://colab.research.google.com/assets/colab-badge.svg\" alt=\"Open In Colab\"/></a>"
      ]
    },
    {
      "cell_type": "code",
      "execution_count": 1,
      "metadata": {
        "colab": {
          "base_uri": "https://localhost:8080/"
        },
        "id": "k0lPrfUg599f",
        "outputId": "4978e556-12ed-4198-85d0-6faaa974741c"
      },
      "outputs": [
        {
          "output_type": "stream",
          "name": "stdout",
          "text": [
            "Drive already mounted at /content/drive; to attempt to forcibly remount, call drive.mount(\"/content/drive\", force_remount=True).\n"
          ]
        }
      ],
      "source": [
        "# 1.1 Montar Google Drive\n",
        "from google.colab import drive\n",
        "drive.mount('/content/drive')\n",
        "\n",
        "# 1.2 Instalar dependencias\n",
        "#!pip install --upgrade pip setuptools wheel\n",
        "#!pip install torch torchvision pandas scikit-learn matplotlib\n",
        "\n",
        "\n"
      ]
    },
    {
      "cell_type": "code",
      "execution_count": 2,
      "metadata": {
        "colab": {
          "base_uri": "https://localhost:8080/"
        },
        "id": "KvnjDzUQ6H-X",
        "outputId": "723870a7-4374-4030-a40b-982bfc488da0"
      },
      "outputs": [
        {
          "output_type": "stream",
          "name": "stdout",
          "text": [
            "✅ Rutas verificadas\n"
          ]
        }
      ],
      "source": [
        "import os\n",
        "import random\n",
        "import numpy as np\n",
        "import pandas as pd\n",
        "import torch\n",
        "import torch.nn as nn\n",
        "import torch.optim as optim\n",
        "from torchvision import transforms, models\n",
        "from PIL import Image\n",
        "from sklearn.preprocessing import LabelEncoder\n",
        "import matplotlib.pyplot as plt\n",
        "\n",
        "# Ajusta esta ruta al directorio donde están tus datos en Drive\n",
        "BASE_DIR = \"/content/drive/MyDrive/Colab Notebooks/Multi-modal classification\"\n",
        "CSV_PATH = os.path.join(BASE_DIR, \"labels.csv\")\n",
        "IMGS_DIR = os.path.join(BASE_DIR, \"images\")\n",
        "\n",
        "# Verificar existencia\n",
        "assert os.path.isfile(CSV_PATH), f\"No existe {CSV_PATH}\"\n",
        "assert os.path.isdir(IMGS_DIR),  f\"No existe {IMGS_DIR}\"\n",
        "print(\"✅ Rutas verificadas\")\n",
        "\n",
        "\n",
        "\n"
      ]
    },
    {
      "cell_type": "code",
      "execution_count": 3,
      "metadata": {
        "colab": {
          "base_uri": "https://localhost:8080/"
        },
        "id": "YzAmTQD2AgT_",
        "outputId": "e1a807e9-c448-47dc-9c72-8fe8d3da409c"
      },
      "outputs": [
        {
          "output_type": "stream",
          "name": "stdout",
          "text": [
            "Clases originales: 70 → etiquetas 0…69\n",
            "Tienes 70 etiquetas distintas en el dataset\n"
          ]
        }
      ],
      "source": [
        "# 3.1 Leer CSV\n",
        "df = pd.read_csv(CSV_PATH)\n",
        "\n",
        "# 3.2 Remapear etiquetas originales (10–79) a 0…C-1\n",
        "le = LabelEncoder()\n",
        "df['label_enc'] = le.fit_transform(df['label'])\n",
        "num_classes = len(le.classes_)\n",
        "print(f\"Clases originales: {len(le.classes_)} → etiquetas 0…{num_classes-1}\")\n",
        "\n",
        "# 3.3 Crear columna image_path (asumiendo que ID coincide con nombre PNG)\n",
        "df['image_path'] = df['ID'].astype(str) + '.png'\n",
        "\n",
        "# 3.4 Construir diccionario label→[índices] para muestreo rápido\n",
        "label_to_indices = {\n",
        "    lbl: df.index[df['label_enc']==lbl].tolist()\n",
        "    for lbl in df['label_enc'].unique()\n",
        "}\n",
        "print(f\"Tienes {len(label_to_indices)} etiquetas distintas en el dataset\")\n",
        "\n",
        "\n"
      ]
    },
    {
      "cell_type": "code",
      "execution_count": 4,
      "metadata": {
        "colab": {
          "base_uri": "https://localhost:8080/"
        },
        "id": "mTf4wZaHgO6y",
        "outputId": "bb91c9c7-c249-439c-8955-c5104f297c0c"
      },
      "outputs": [
        {
          "output_type": "stream",
          "name": "stdout",
          "text": [
            "Few-shot config: 5-ways, 1-shots, 5-queries (mínimo 6 muestras/clase)\n"
          ]
        }
      ],
      "source": [
        "# Definir cuántas clases y ejemplos por episodio\n",
        "WAYS    = 5    # N clases por episodio\n",
        "SHOTS   = 1    # K ejemplos de soporte por clase\n",
        "QUERIES = 5    # Q ejemplos de consulta por clase\n",
        "\n",
        "# Muestras mínimas que debe tener cada etiqueta\n",
        "MIN_SAMPLES = SHOTS + QUERIES\n",
        "print(f\"Few-shot config: {WAYS}-ways, {SHOTS}-shots, {QUERIES}-queries \"\n",
        "      f\"(mínimo {MIN_SAMPLES} muestras/clase)\")\n",
        "\n"
      ]
    },
    {
      "cell_type": "code",
      "execution_count": 5,
      "metadata": {
        "colab": {
          "base_uri": "https://localhost:8080/"
        },
        "id": "FAAw3shYi9wo",
        "outputId": "e69c4035-2b25-45b6-8588-d59c9ecc9ace"
      },
      "outputs": [
        {
          "output_type": "stream",
          "name": "stdout",
          "text": [
            "Etiquetas totales: 70  → válidas: 41\n"
          ]
        }
      ],
      "source": [
        "# Solo conservar etiquetas con ≥ MIN_SAMPLES ejemplos\n",
        "valid_labels = [\n",
        "    lbl for lbl, inds in label_to_indices.items()\n",
        "    if len(inds) >= MIN_SAMPLES\n",
        "]\n",
        "print(f\"Etiquetas totales: {len(label_to_indices)}  → válidas: {len(valid_labels)}\")\n",
        "\n",
        "if len(valid_labels) < WAYS:\n",
        "    raise ValueError(f\"Pocas clases válidas: {len(valid_labels)} < WAYS ({WAYS})\")\n"
      ]
    },
    {
      "cell_type": "code",
      "execution_count": 6,
      "metadata": {
        "id": "KrbID5IPfcAF"
      },
      "outputs": [],
      "source": [
        "train_img_transforms = transforms.Compose([\n",
        "    transforms.Resize((224,224)),\n",
        "    transforms.RandomHorizontalFlip(),\n",
        "    transforms.RandomRotation(15),\n",
        "    transforms.ToTensor(),\n",
        "    transforms.Normalize([.485,.456,.406], [.229,.224,.225]),\n",
        "])\n",
        "val_img_transforms = transforms.Compose([\n",
        "    transforms.Resize((224,224)),\n",
        "    transforms.ToTensor(),\n",
        "    transforms.Normalize([.485,.456,.406], [.229,.224,.225]),\n",
        "])\n"
      ]
    },
    {
      "cell_type": "code",
      "execution_count": 7,
      "metadata": {
        "id": "WrA1SRtUfev5"
      },
      "outputs": [],
      "source": [
        "def sample_episode(df, label_to_indices, valid_labels,\n",
        "                   ways, shots, queries, img_trans, img_dir):\n",
        "    \"\"\"\n",
        "    Retorna:\n",
        "      support_imgs, support_meta, support_labels,\n",
        "      query_imgs,   query_meta,   query_labels\n",
        "    \"\"\"\n",
        "    chosen = random.sample(valid_labels, ways)\n",
        "    supp_imgs, supp_meta, supp_lbls = [], [], []\n",
        "    qry_imgs,  qry_meta,  qry_lbls  = [], [], []\n",
        "\n",
        "    for lbl in chosen:\n",
        "        indices = random.sample(label_to_indices[lbl], shots + queries)\n",
        "        for i, idx in enumerate(indices):\n",
        "            row = df.loc[idx]\n",
        "            # Imagen\n",
        "            img = Image.open(os.path.join(img_dir, row.image_path)).convert('RGB')\n",
        "            img = img_trans(img)\n",
        "            # Metadatos\n",
        "            meta = torch.tensor(\n",
        "                [row.ID, row['class'], row.Width, row.location],\n",
        "                dtype=torch.float32\n",
        "            )\n",
        "            # Asignar a soporte o consulta\n",
        "            if i < shots:\n",
        "                supp_imgs.append(img);   supp_meta.append(meta);   supp_lbls.append(lbl)\n",
        "            else:\n",
        "                qry_imgs.append(img);    qry_meta.append(meta);    qry_lbls.append(lbl)\n",
        "\n",
        "    # Apilar tensores\n",
        "    support_imgs   = torch.stack(supp_imgs)\n",
        "    support_meta   = torch.stack(supp_meta)\n",
        "    support_labels = torch.tensor(supp_lbls, dtype=torch.long)\n",
        "    query_imgs     = torch.stack(qry_imgs)\n",
        "    query_meta     = torch.stack(qry_meta)\n",
        "    query_labels   = torch.tensor(qry_lbls, dtype=torch.long)\n",
        "\n",
        "    return support_imgs, support_meta, support_labels, query_imgs, query_meta, query_labels\n",
        "\n",
        "\n"
      ]
    },
    {
      "cell_type": "code",
      "execution_count": 8,
      "metadata": {
        "id": "WbSs5i-4fh92"
      },
      "outputs": [],
      "source": [
        "class MultiModalEmbedder(nn.Module):\n",
        "    def __init__(self, backbone='resnet18', img_dim=128, meta_dim=32):\n",
        "        super().__init__()\n",
        "        # Encoder de imagen\n",
        "        cnn = getattr(models, backbone)(weights=models.ResNet18_Weights.DEFAULT)\n",
        "        cnn.fc = nn.Linear(cnn.fc.in_features, img_dim)\n",
        "        self.img_enc  = cnn\n",
        "        # Encoder de metadatos\n",
        "        self.meta_enc = nn.Sequential(\n",
        "            nn.Linear(4, 64), nn.ReLU(),\n",
        "            nn.Linear(64, meta_dim), nn.ReLU(),\n",
        "        )\n",
        "\n",
        "    def forward(self, img, meta):\n",
        "        e1 = self.img_enc(img)          # (batch, img_dim)\n",
        "        e2 = self.meta_enc(meta)        # (batch, meta_dim)\n",
        "        return torch.cat([e1, e2], dim=1)  # (batch, img_dim+meta_dim)\n",
        "\n"
      ]
    },
    {
      "cell_type": "code",
      "execution_count": 9,
      "metadata": {
        "id": "gG8GZmnJfkGU"
      },
      "outputs": [],
      "source": [
        "def prototypical_loss(embeddings, ways, shots, queries):\n",
        "    \"\"\"\n",
        "    embeddings: tensor (ways*(shots+queries), D)\n",
        "    Devuelve: (loss, acc)\n",
        "    \"\"\"\n",
        "    D = embeddings.size(-1)\n",
        "    # 1) Separar soporte y consulta\n",
        "    support = embeddings[:ways*shots].view(ways, shots, D)\n",
        "    query   = embeddings[ways*shots:].view(ways*queries, D)\n",
        "    # 2) Calcular prototypes\n",
        "    prototypes = support.mean(dim=1)  # (ways, D)\n",
        "    # 3) Distancias euclidianas\n",
        "    dists = torch.cdist(query, prototypes)  # (ways*queries, ways)\n",
        "    # 4) Logits y targets\n",
        "    logits = -dists\n",
        "    target_inds = torch.arange(ways).unsqueeze(1)\\\n",
        "                       .expand(ways, queries).reshape(-1)\\\n",
        "                       .to(logits.device)\n",
        "    # 5) Loss y accuracy\n",
        "    loss = nn.CrossEntropyLoss()(logits, target_inds)\n",
        "    preds = torch.argmax(logits, dim=1)\n",
        "    acc  = (preds == target_inds).float().mean().item()\n",
        "    return loss, acc\n"
      ]
    },
    {
      "cell_type": "code",
      "execution_count": 10,
      "metadata": {
        "colab": {
          "base_uri": "https://localhost:8080/",
          "height": 1000
        },
        "id": "abTy1TNTfl8f",
        "outputId": "c0ca32ea-f8e7-442b-b94d-446fb1aa176d"
      },
      "outputs": [
        {
          "output_type": "stream",
          "name": "stderr",
          "text": [
            "Downloading: \"https://download.pytorch.org/models/resnet18-f37072fd.pth\" to /root/.cache/torch/hub/checkpoints/resnet18-f37072fd.pth\n",
            "100%|██████████| 44.7M/44.7M [00:00<00:00, 82.8MB/s]\n",
            "/usr/local/lib/python3.11/dist-packages/torch/optim/lr_scheduler.py:62: UserWarning: The verbose parameter is deprecated. Please use get_last_lr() to access the learning rate.\n",
            "  warnings.warn(\n"
          ]
        },
        {
          "output_type": "stream",
          "name": "stdout",
          "text": [
            "Epoch 01  TrainLoss=27.4392  TrainAcc=0.5028  |  ValLoss=0.9047  ValAcc=0.7672\n",
            "Epoch 02  TrainLoss=0.6027  TrainAcc=0.7172  |  ValLoss=0.7648  ValAcc=0.7648\n",
            "Epoch 03  TrainLoss=0.4734  TrainAcc=0.7770  |  ValLoss=0.4524  ValAcc=0.8424\n",
            "Epoch 04  TrainLoss=0.5063  TrainAcc=0.7800  |  ValLoss=0.4224  ValAcc=0.8544\n",
            "Epoch 05  TrainLoss=0.4353  TrainAcc=0.7962  |  ValLoss=0.4545  ValAcc=0.8448\n",
            "Epoch 06  TrainLoss=0.4442  TrainAcc=0.7956  |  ValLoss=0.4079  ValAcc=0.8760\n",
            "Epoch 07  TrainLoss=0.3831  TrainAcc=0.8178  |  ValLoss=0.2710  ValAcc=0.9152\n",
            "Epoch 08  TrainLoss=0.3821  TrainAcc=0.8266  |  ValLoss=0.2517  ValAcc=0.9320\n",
            "Epoch 09  TrainLoss=0.3300  TrainAcc=0.8560  |  ValLoss=0.2960  ValAcc=0.9096\n",
            "Epoch 10  TrainLoss=0.3451  TrainAcc=0.8386  |  ValLoss=0.2201  ValAcc=0.9096\n"
          ]
        },
        {
          "output_type": "display_data",
          "data": {
            "text/plain": [
              "<Figure size 800x400 with 1 Axes>"
            ],
            "image/png": "[encoded data removed]"
          },
          "metadata": {}
        },
        {
          "output_type": "display_data",
          "data": {
            "text/plain": [
              "<Figure size 800x400 with 1 Axes>"
            ],
            "image/png": "[encoded data removed]"
          },
          "metadata": {}
        }
      ],
      "source": [
        "# ── Módulo 8 – Entrenamiento, validación, early stopping y scheduler ─────────────\n",
        "\n",
        "# 8.0 Importar para graficar\n",
        "import matplotlib.pyplot as plt\n",
        "import os\n",
        "\n",
        "# 8.1 Hiperparámetros y device\n",
        "EPISODES_TRAIN = 200\n",
        "EPISODES_VAL   =  50\n",
        "EPOCHS         =  10\n",
        "device         = torch.device('cuda' if torch.cuda.is_available() else 'cpu')\n",
        "\n",
        "# 8.2 Instanciar modelo y optimizador\n",
        "embedder  = MultiModalEmbedder().to(device)\n",
        "optimizer = optim.Adam(embedder.parameters(), lr=1e-3)\n",
        "\n",
        "# 8.2.1 Scheduler sobre val_loss\n",
        "scheduler = optim.lr_scheduler.ReduceLROnPlateau(\n",
        "    optimizer,\n",
        "    mode='min',\n",
        "    factor=0.5,      # reducir lr a la mitad\n",
        "    patience=2,      # espera 2 épocas sin mejora\n",
        "    verbose=True\n",
        ")\n",
        "\n",
        "# 8.2.2 Variables para early stopping\n",
        "best_val_acc     = 0.0\n",
        "patience_counter = 0\n",
        "PATIENCE         = 3   # detener si no mejora val_acc en 3 épocas\n",
        "\n",
        "# 8.3 Listas para métricas\n",
        "train_losses, train_accs = [], []\n",
        "val_losses,   val_accs   = [], []\n",
        "\n",
        "# 8.4 Bucle de entrenamiento + validación\n",
        "for epoch in range(1, EPOCHS+1):\n",
        "    # — Entrenamiento —\n",
        "    embedder.train()\n",
        "    running_loss, running_acc = 0.0, 0.0\n",
        "    for _ in range(EPISODES_TRAIN):\n",
        "        s_img, s_meta, s_lbl, q_img, q_meta, q_lbl = sample_episode(\n",
        "            df, label_to_indices, valid_labels,\n",
        "            WAYS, SHOTS, QUERIES,\n",
        "            train_img_transforms, IMGS_DIR\n",
        "        )\n",
        "        s_img, s_meta, s_lbl = s_img.to(device), s_meta.to(device), s_lbl.to(device)\n",
        "        q_img, q_meta        = q_img.to(device), q_meta.to(device)\n",
        "\n",
        "        emb_s   = embedder(s_img, s_meta)\n",
        "        emb_q   = embedder(q_img, q_meta)\n",
        "        emb_all = torch.cat([emb_s, emb_q], dim=0)\n",
        "\n",
        "        loss, acc = prototypical_loss(emb_all, WAYS, SHOTS, QUERIES)\n",
        "        optimizer.zero_grad()\n",
        "        loss.backward()\n",
        "        optimizer.step()\n",
        "\n",
        "        running_loss += loss.item()\n",
        "        running_acc  += acc\n",
        "\n",
        "    train_loss = running_loss / EPISODES_TRAIN\n",
        "    train_acc  = running_acc  / EPISODES_TRAIN\n",
        "\n",
        "    # — Validación —\n",
        "    embedder.eval()\n",
        "    running_val_loss, running_val_acc = 0.0, 0.0\n",
        "    with torch.no_grad():\n",
        "        for _ in range(EPISODES_VAL):\n",
        "            s_img, s_meta, s_lbl, q_img, q_meta, q_lbl = sample_episode(\n",
        "                df, label_to_indices, valid_labels,\n",
        "                WAYS, SHOTS, QUERIES,\n",
        "                val_img_transforms, IMGS_DIR\n",
        "            )\n",
        "            s_img, s_meta, s_lbl = s_img.to(device), s_meta.to(device), s_lbl.to(device)\n",
        "            q_img, q_meta        = q_img.to(device), q_meta.to(device)\n",
        "\n",
        "            emb_s   = embedder(s_img, s_meta)\n",
        "            emb_q   = embedder(q_img, q_meta)\n",
        "            emb_all = torch.cat([emb_s, emb_q], dim=0)\n",
        "\n",
        "            loss, acc = prototypical_loss(emb_all, WAYS, SHOTS, QUERIES)\n",
        "            running_val_loss += loss.item()\n",
        "            running_val_acc  += acc\n",
        "\n",
        "    val_loss = running_val_loss / EPISODES_VAL\n",
        "    val_acc  = running_val_acc  / EPISODES_VAL\n",
        "\n",
        "    # 8.5 Guardar métricas\n",
        "    train_losses.append(train_loss)\n",
        "    train_accs.append(train_acc)\n",
        "    val_losses.append(val_loss)\n",
        "    val_accs.append(val_acc)\n",
        "\n",
        "    # 8.6 Early stopping + checkpoint\n",
        "    if val_acc > best_val_acc:\n",
        "        best_val_acc = val_acc\n",
        "        torch.save(\n",
        "            embedder.state_dict(),\n",
        "            os.path.join(BASE_DIR, 'best_embedder.pth')\n",
        "        )\n",
        "        patience_counter = 0\n",
        "    else:\n",
        "        patience_counter += 1\n",
        "        if patience_counter >= PATIENCE:\n",
        "            print(f\"⏹ Early stopping en época {epoch} (no mejora en {PATIENCE} épocas).\")\n",
        "            break\n",
        "\n",
        "    # 8.7 Scheduler step sobre val_loss\n",
        "    scheduler.step(val_loss)\n",
        "\n",
        "    # 8.8 Impresión de progreso\n",
        "    print(\n",
        "        f\"Epoch {epoch:02d}  \"\n",
        "        f\"TrainLoss={train_loss:.4f}  TrainAcc={train_acc:.4f}  |  \"\n",
        "        f\"ValLoss={val_loss:.4f}  ValAcc={val_acc:.4f}\"\n",
        "    )\n",
        "\n",
        "# 8.9 Graficar curvas de pérdida\n",
        "epochs = range(1, len(train_losses)+1)\n",
        "plt.figure(figsize=(8,4))\n",
        "plt.plot(epochs, train_losses, '-o', label='Train Loss')\n",
        "plt.plot(epochs, val_losses,   '-o', label='Val Loss')\n",
        "plt.title('Curvas de Pérdida')\n",
        "plt.xlabel('Época'); plt.ylabel('Loss')\n",
        "plt.legend(); plt.grid(True); plt.show()\n",
        "\n",
        "# 8.10 Graficar curvas de accuracy\n",
        "plt.figure(figsize=(8,4))\n",
        "plt.plot(epochs, train_accs, '-o', label='Train Acc')\n",
        "plt.plot(epochs, val_accs,   '-o', label='Val Acc')\n",
        "plt.title('Curvas de Accuracy')\n",
        "plt.xlabel('Época'); plt.ylabel('Accuracy')\n",
        "plt.legend(); plt.grid(True); plt.show()\n",
        "\n"
      ]
    }
  ],
  "metadata": {
    "accelerator": "GPU",
    "colab": {
      "gpuType": "T4",
      "provenance": [],
      "mount_file_id": "1iXbOK9dARwPQB5XU7hDswzEEDHsQQqdy",
      "authorship_tag": "ABX9TyNLyFaEvqV9DrzkFM3Yr7D+",
      "include_colab_link": true
    },
    "kernelspec": {
      "display_name": "Python 3",
      "name": "python3"
    },
    "language_info": {
      "name": "python"
    }
  },
  "nbformat": 4,
  "nbformat_minor": 0
}