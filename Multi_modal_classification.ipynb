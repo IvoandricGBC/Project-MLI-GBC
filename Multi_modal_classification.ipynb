{
  "cells": [
    {
      "cell_type": "markdown",
      "metadata": {
        "id": "view-in-github",
        "colab_type": "text"
      },
      "source": [
        "<a href=\"https://colab.research.google.com/github/IvoandricGBC/Project-MLI-GBC/blob/github_task/Multi_modal_classification.ipynb\" target=\"_parent\"><img src=\"https://colab.research.google.com/assets/colab-badge.svg\" alt=\"Open In Colab\"/></a>"
      ]
    },
    {
      "cell_type": "code",
      "execution_count": 1,
      "metadata": {
        "colab": {
          "base_uri": "https://localhost:8080/"
        },
        "id": "KvnjDzUQ6H-X",
        "outputId": "84d6ed79-de5b-4b9f-da94-3acd3fb09aea"
      },
      "outputs": [
        {
          "output_type": "stream",
          "name": "stdout",
          "text": [
            "Drive already mounted at /content/drive; to attempt to forcibly remount, call drive.mount(\"/content/drive\", force_remount=True).\n"
          ]
        }
      ],
      "source": [
        "# Multi-modal Classification Colab\n",
        "\n",
        "# ── Módulo 1 – Setup en Colab\n",
        "from google.colab import drive\n",
        "import os, random\n",
        "import numpy as np\n",
        "import pandas as pd\n",
        "import torch\n",
        "import torch.nn as nn\n",
        "import torch.optim as optim\n",
        "import torch.nn.utils as torch_utils\n",
        "from torchvision import transforms, models\n",
        "from PIL import Image\n",
        "from sklearn.preprocessing import LabelEncoder\n",
        "import matplotlib.pyplot as plt\n",
        "\n",
        "drive.mount('/content/drive')\n",
        "#!pip install --upgrade pip setuptools wheel\n",
        "#!pip install torch torchvision pandas scikit-learn matplotlib\n",
        "\n",
        "# ── Rutas y parámetros globales\n",
        "BASE_DIR   = \"/content/drive/MyDrive/Colab Notebooks/Multi-modal classification\"\n",
        "CSV_PATH   = os.path.join(BASE_DIR, \"labels.csv\")\n",
        "IMGS_DIR   = os.path.join(BASE_DIR, \"images\")\n",
        "MODEL_PATH = os.path.join(BASE_DIR, \"best_embedder.pth\")\n",
        "\n",
        "assert os.path.isfile(CSV_PATH),  f\"No existe {CSV_PATH}\"\n",
        "assert os.path.isdir(IMGS_DIR),   f\"No existe {IMGS_DIR}\"\n",
        "\n",
        "\n"
      ]
    },
    {
      "cell_type": "code",
      "execution_count": 2,
      "metadata": {
        "colab": {
          "base_uri": "https://localhost:8080/"
        },
        "id": "YzAmTQD2AgT_",
        "outputId": "9b422669-23e7-4415-c7cb-e67becb6ec69"
      },
      "outputs": [
        {
          "output_type": "stream",
          "name": "stdout",
          "text": [
            "Labels mapped to 0...69\n"
          ]
        }
      ],
      "source": [
        "# ── Módulo 3 – Preparación de datos\n",
        "# 3.1 Leer CSV y remapear etiquetas\n",
        "\n",
        "df = pd.read_csv(CSV_PATH)\n",
        "le = LabelEncoder()\n",
        "df['label_enc'] = le.fit_transform(df['label'])\n",
        "num_classes = len(le.classes_)\n",
        "print(f\"Labels mapped to 0...{num_classes-1}\")\n",
        "\n",
        "# 3.2 Construir columna de rutas e índices por etiqueta\n",
        "\n",
        "df['image_path'] = df['ID'].astype(str) + '.png'\n",
        "label_to_indices = {lbl: df.index[df['label_enc']==lbl].tolist()\n",
        "                    for lbl in df['label_enc'].unique()}\n",
        "\n",
        "# 3.3 Few-shot config y filtrado de clases\n",
        "WAYS, SHOTS, QUERIES = 5, 1, 5\n",
        "MIN_SAMPLES = SHOTS + QUERIES\n",
        "valid_labels = [lbl for lbl, inds in label_to_indices.items()\n",
        "                if len(inds) >= MIN_SAMPLES]\n",
        "assert len(valid_labels) >= WAYS, \"No hay suficientes clases válidas.\"\n",
        "\n",
        "\n"
      ]
    },
    {
      "cell_type": "code",
      "source": [
        "# ── Módulo 4 – Transforms de imagenes\n",
        "\n",
        "train_img_transforms = transforms.Compose([\n",
        "    transforms.Resize((224,224)),\n",
        "    transforms.RandomHorizontalFlip(),\n",
        "    transforms.RandomRotation(15),\n",
        "    transforms.ToTensor(),\n",
        "    transforms.Normalize([.485,.456,.406],[.229,.224,.225]),\n",
        "])\n",
        "val_img_transforms = transforms.Compose([\n",
        "    transforms.Resize((224,224)),\n",
        "    transforms.ToTensor(),\n",
        "    transforms.Normalize([.485,.456,.406],[.229,.224,.225]),\n",
        "])"
      ],
      "metadata": {
        "id": "NXucTQjcsHN2"
      },
      "execution_count": 3,
      "outputs": []
    },
    {
      "cell_type": "code",
      "execution_count": 4,
      "metadata": {
        "id": "mTf4wZaHgO6y"
      },
      "outputs": [],
      "source": [
        "# ── Módulo 5 – Función de muestreo de episodios\n",
        "\n",
        "def sample_episode(df, label_to_indices, valid_labels,\n",
        "                   ways, shots, queries, img_trans, img_dir):\n",
        "    chosen = random.sample(valid_labels, ways)\n",
        "    supp, qry = [], []\n",
        "    for lbl in chosen:\n",
        "        ids = random.sample(label_to_indices[lbl], shots+queries)\n",
        "        for i, idx in enumerate(ids):\n",
        "            row = df.loc[idx]\n",
        "            img = Image.open(os.path.join(img_dir, row.image_path)).convert('RGB')\n",
        "            img = img_trans(img)\n",
        "            meta = torch.tensor([row.ID, row['class'], row.Width, row.location], dtype=torch.float32)\n",
        "            (supp if i<shots else qry).append((img, meta, lbl))\n",
        "    # separar soporte y query\n",
        "    s_imgs = torch.stack([x[0] for x in supp]);   s_meta = torch.stack([x[1] for x in supp]);   s_lbls = torch.tensor([x[2] for x in supp], dtype=torch.long)\n",
        "    q_imgs = torch.stack([x[0] for x in qry]);    q_meta = torch.stack([x[1] for x in qry]);    q_lbls = torch.tensor([x[2] for x in qry], dtype=torch.long)\n",
        "    return s_imgs, s_meta, s_lbls, q_imgs, q_meta, q_lbls\n",
        "\n"
      ]
    },
    {
      "cell_type": "code",
      "execution_count": 5,
      "metadata": {
        "id": "FAAw3shYi9wo"
      },
      "outputs": [],
      "source": [
        "# ── Módulo 6 – Definición del modelo multimodal\n",
        "\n",
        "class MultiModalEmbedder(nn.Module):\n",
        "    def __init__(self, backbone='resnet18', img_dim=128, meta_dim=32):\n",
        "        super().__init__()\n",
        "        cnn = getattr(models, backbone)(weights=models.ResNet18_Weights.DEFAULT)\n",
        "        cnn.fc = nn.Linear(cnn.fc.in_features, img_dim)\n",
        "        self.img_enc  = cnn\n",
        "        self.meta_enc = nn.Sequential(\n",
        "            nn.Linear(4,64), nn.ReLU(),\n",
        "            nn.Linear(64,meta_dim), nn.ReLU(),\n",
        "        )\n",
        "    def forward(self, img, meta):\n",
        "        e1 = self.img_enc(img)\n",
        "        e2 = self.meta_enc(meta)\n",
        "        return torch.cat([e1,e2], dim=1)\n"
      ]
    },
    {
      "cell_type": "code",
      "execution_count": 6,
      "metadata": {
        "id": "KrbID5IPfcAF",
        "colab": {
          "base_uri": "https://localhost:8080/"
        },
        "outputId": "87d23eef-3085-42ce-db44-bca50fbb9126"
      },
      "outputs": [
        {
          "output_type": "stream",
          "name": "stdout",
          "text": [
            "✅ Loaded trained model from /content/drive/MyDrive/Colab Notebooks/Multi-modal classification/best_embedder.pth\n"
          ]
        }
      ],
      "source": [
        "# ── Módulo 7 – Pérdida prototípica\n",
        "\n",
        "def prototypical_loss(emb, ways, shots, queries):\n",
        "    D = emb.size(-1)\n",
        "    s = emb[:ways*shots].view(ways, shots, D)\n",
        "    q = emb[ways*shots:].view(ways*queries, D)\n",
        "    proto = s.mean(dim=1)\n",
        "    dists = torch.cdist(q, proto)\n",
        "    logits = -dists\n",
        "    targets = torch.arange(ways).unsqueeze(1).expand(ways,queries).reshape(-1).to(logits.device)\n",
        "    loss = nn.CrossEntropyLoss()(logits, targets)\n",
        "    acc  = (logits.argmax(1)==targets).float().mean().item()\n",
        "    return loss, acc\n",
        "\n",
        "# ── Preparar modelo y decidir si entrenar\n",
        "\n",
        "device = torch.device('cuda' if torch.cuda.is_available() else 'cpu')\n",
        "embedder = MultiModalEmbedder().to(device)\n",
        "\n",
        "if os.path.isfile(MODEL_PATH):\n",
        "    embedder.load_state_dict(torch.load(MODEL_PATH))\n",
        "    embedder.eval()\n",
        "    print(f\"✅ Loaded trained model from {MODEL_PATH}\")\n",
        "    skip_training = True\n",
        "else:\n",
        "    skip_training = False\n"
      ]
    },
    {
      "cell_type": "code",
      "execution_count": 7,
      "metadata": {
        "id": "WrA1SRtUfev5",
        "colab": {
          "base_uri": "https://localhost:8080/"
        },
        "outputId": "9012721a-5abf-446c-a4f7-e38f14810b48"
      },
      "outputs": [
        {
          "output_type": "stream",
          "name": "stdout",
          "text": [
            "⚡ Skipping training; model loaded.\n"
          ]
        }
      ],
      "source": [
        "# ── Módulo 8 – Entrenamiento, validación y guardado de best model\n",
        "\n",
        "if not skip_training:\n",
        "    optimizer = optim.Adam(embedder.parameters(), lr=1e-3, weight_decay=1e-5)\n",
        "    scheduler = optim.lr_scheduler.ReduceLROnPlateau(\n",
        "        optimizer, mode='min', factor=0.5, patience=2, verbose=True)\n",
        "    best_val_acc, patience_counter, PATIENCE = 0.0, 0, 3\n",
        "    train_losses, val_losses = [], []\n",
        "    train_accs, val_accs     = [], []\n",
        "\n",
        "    for epoch in range(1, 11):\n",
        "        # Training\n",
        "        embedder.train()\n",
        "        rl, ra = 0.0, 0.0\n",
        "        for _ in range(200):\n",
        "            si, sm, sl, qi, qm, ql = sample_episode(\n",
        "                df, label_to_indices, valid_labels,\n",
        "                WAYS, SHOTS, QUERIES,\n",
        "                train_img_transforms, IMGS_DIR)\n",
        "            si, sm, sl = si.to(device), sm.to(device), sl.to(device)\n",
        "            qi, qm     = qi.to(device), qm.to(device)\n",
        "            emb_s, emb_q = embedder(si, sm), embedder(qi, qm)\n",
        "            emb_all = torch.cat([emb_s, emb_q], dim=0)\n",
        "            loss, acc = prototypical_loss(emb_all, WAYS, SHOTS, QUERIES)\n",
        "            optimizer.zero_grad(); loss.backward()\n",
        "            torch_utils.clip_grad_norm_(embedder.parameters(), 1.0)\n",
        "            optimizer.step()\n",
        "            rl += loss.item(); ra += acc\n",
        "        tl, ta = rl/200, ra/200\n",
        "        # Validation\n",
        "        embedder.eval(); rvl, rva = 0.0, 0.0\n",
        "        with torch.no_grad():\n",
        "            for _ in range(50):\n",
        "                si, sm, sl, qi, qm, ql = sample_episode(\n",
        "                    df, label_to_indices, valid_labels,\n",
        "                    WAYS, SHOTS, QUERIES,\n",
        "                    val_img_transforms, IMGS_DIR)\n",
        "                si, sm, sl = si.to(device), sm.to(device), sl.to(device)\n",
        "                qi, qm     = qi.to(device), qm.to(device)\n",
        "                emb_s, emb_q = embedder(si, sm), embedder(qi, qm)\n",
        "                emb_all = torch.cat([emb_s, emb_q], dim=0)\n",
        "                loss, acc = prototypical_loss(emb_all, WAYS, SHOTS, QUERIES)\n",
        "                rvl += loss.item(); rva += acc\n",
        "        vl, va = rvl/50, rva/50\n",
        "        train_losses.append(tl); train_accs.append(ta)\n",
        "        val_losses.append(vl); val_accs.append(va)\n",
        "        # Early stopping + checkpoint\n",
        "        if va > best_val_acc:\n",
        "            best_val_acc = va\n",
        "            torch.save(embedder.state_dict(), MODEL_PATH)\n",
        "            patience_counter = 0\n",
        "        else:\n",
        "            patience_counter += 1\n",
        "            if patience_counter >= PATIENCE:\n",
        "                print(f\"⏹ Early stopping on epoch {epoch}\")\n",
        "                break\n",
        "        scheduler.step(vl)\n",
        "        print(f\"Epoch {epoch:02d}  \"\n",
        "              f\"TrainLoss={tl:.4f}  TrainAcc={ta:.4f}  |  \"\n",
        "              f\"ValLoss={vl:.4f}  ValAcc={va:.4f}\")\n",
        "    # Plot metrics\n",
        "    epochs = range(1, len(train_losses)+1)\n",
        "    plt.figure(figsize=(8,4))\n",
        "    plt.plot(epochs, train_losses, '-o', label='Train Loss')\n",
        "    plt.plot(epochs, val_losses,   '-o', label='Val Loss')\n",
        "    plt.legend(); plt.title('Loss Curves'); plt.show()\n",
        "    plt.figure(figsize=(8,4))\n",
        "    plt.plot(epochs, train_accs, '-o', label='Train Acc')\n",
        "    plt.plot(epochs, val_accs,   '-o', label='Val Acc')\n",
        "    plt.legend(); plt.title('Accuracy Curves'); plt.show()\n",
        "else:\n",
        "    print(\"⚡ Skipping training; model loaded.\")\n",
        "\n"
      ]
    },
    {
      "cell_type": "code",
      "execution_count": 10,
      "metadata": {
        "id": "WbSs5i-4fh92",
        "colab": {
          "base_uri": "https://localhost:8080/",
          "height": 1000
        },
        "outputId": "e7a438de-3e57-4bdd-a813-e31f95a20d04"
      },
      "outputs": [
        {
          "output_type": "stream",
          "name": "stdout",
          "text": [
            "Random batch indices: [6, 206, 181, 209, 172]\n",
            "Random batch predictions: [44, 69, 32, 37, 41]\n",
            "=== Classification Report ===\n",
            "              precision    recall  f1-score   support\n",
            "\n",
            "          11     0.0000    0.0000    0.0000         1\n",
            "          15     0.0000    0.0000    0.0000         1\n",
            "          20     0.6667    1.0000    0.8000         2\n",
            "          23     0.2500    1.0000    0.4000         1\n",
            "          27     0.0000    0.0000    0.0000         1\n",
            "          29     0.0000    0.0000    0.0000         1\n",
            "          31     1.0000    1.0000    1.0000         2\n",
            "          32     0.6667    1.0000    0.8000         2\n",
            "          33     0.3333    1.0000    0.5000         1\n",
            "          34     0.7500    1.0000    0.8571         3\n",
            "          35     0.6667    0.4000    0.5000         5\n",
            "          36     0.2500    0.5000    0.3333         2\n",
            "          37     0.3333    0.5000    0.4000         2\n",
            "          38     0.7500    0.7500    0.7500         4\n",
            "          39     0.6667    0.6667    0.6667         3\n",
            "          40     0.5000    1.0000    0.6667         1\n",
            "          41     1.0000    1.0000    1.0000         5\n",
            "          42     0.7500    0.7500    0.7500         4\n",
            "          43     0.0000    0.0000    0.0000         1\n",
            "          44     1.0000    0.7500    0.8571         4\n",
            "          45     0.0000    0.0000    0.0000         1\n",
            "          46     0.7500    1.0000    0.8571         3\n",
            "          47     0.5000    1.0000    0.6667         1\n",
            "          48     0.0000    0.0000    0.0000         2\n",
            "          49     0.0000    0.0000    0.0000         1\n",
            "          50     1.0000    0.5000    0.6667         2\n",
            "          51     1.0000    1.0000    1.0000         3\n",
            "          52     0.3333    0.5000    0.4000         2\n",
            "          53     0.3333    1.0000    0.5000         1\n",
            "          54     0.0000    0.0000    0.0000         4\n",
            "          56     1.0000    0.7500    0.8571         4\n",
            "          57     1.0000    1.0000    1.0000         3\n",
            "          58     0.6000    0.5000    0.5455         6\n",
            "          59     0.6667    1.0000    0.8000         4\n",
            "          61     1.0000    1.0000    1.0000         2\n",
            "          65     0.3333    1.0000    0.5000         1\n",
            "          66     0.7500    1.0000    0.8571         3\n",
            "          67     1.0000    1.0000    1.0000         1\n",
            "          68     0.0000    0.0000    0.0000         2\n",
            "          72     0.0000    0.0000    0.0000         1\n",
            "          74     0.0000    0.0000    0.0000         3\n",
            "          75     0.0000    0.0000    0.0000         1\n",
            "          77     1.0000    1.0000    1.0000         3\n",
            "\n",
            "    accuracy                         0.6500       100\n",
            "   macro avg     0.4849    0.5946    0.5100       100\n",
            "weighted avg     0.6010    0.6500    0.6058       100\n",
            "\n"
          ]
        },
        {
          "output_type": "display_data",
          "data": {
            "text/plain": [
              "<Figure size 800x600 with 2 Axes>"
            ],
            "image/png": "[encoded data removed]"
          },
          "metadata": {}
        }
      ],
      "source": [
        "\n",
        "# ── Módulo 9 – Inferencia por batch\n",
        "# Precompute prototypes (uses SHOTS support examples)\n",
        "from collections import defaultdict\n",
        "proto_sums, proto_counts = defaultdict(lambda: torch.zeros(embedder.img_enc.fc.out_features + embedder.meta_enc[-2].out_features).to(device)), defaultdict(int)\n",
        "with torch.no_grad():\n",
        "    for lbl in valid_labels:\n",
        "        idxs = random.sample(label_to_indices[lbl], min(len(label_to_indices[lbl]), SHOTS))\n",
        "        for idx in idxs:\n",
        "            row = df.loc[idx]\n",
        "            img  = val_img_transforms(Image.open(os.path.join(IMGS_DIR,row.image_path))).unsqueeze(0).to(device)\n",
        "            meta = torch.tensor([[row.ID,row['class'],row.Width,row.location]],dtype=torch.float32).to(device)\n",
        "            emb  = embedder(img,meta).squeeze(0)\n",
        "            proto_sums[lbl]   += emb; proto_counts[lbl] += 1\n",
        "prototypes     = {lbl:(proto_sums[lbl]/proto_counts[lbl]).unsqueeze(0) for lbl in valid_labels}\n",
        "proto_tensor   = torch.cat(list(prototypes.values()),dim=0)\n",
        "\n",
        "# Batch classification function\n",
        "def classify_batch(image_paths, metadatas):\n",
        "    imgs = torch.stack([val_img_transforms(Image.open(p).convert('RGB')) for p in image_paths]).to(device)\n",
        "    metas= torch.tensor([[m['ID'],m['class'],m['Width'],m['location']] for m in metadatas],dtype=torch.float32).to(device)\n",
        "    with torch.no_grad():\n",
        "        embs  = embedder(imgs, metas)\n",
        "        dists = torch.cdist(embs, proto_tensor)\n",
        "        ids   = torch.argmin(dists, dim=1).cpu().numpy()\n",
        "    labels_enc = [ valid_labels[i] for i in ids ]\n",
        "    return le.inverse_transform(labels_enc).tolist()\n",
        "\n",
        "# ── Example: Classify a random batch of 5 images\n",
        "indices = random.sample(range(len(df)), 5)\n",
        "paths   = [os.path.join(IMGS_DIR, df.iloc[i].image_path) for i in indices]\n",
        "metas   = [\n",
        "    {'ID':df.iloc[i].ID,'class':df.iloc[i]['class'],\n",
        "     'Width':df.iloc[i].Width,'location':df.iloc[i].location}\n",
        "    for i in indices\n",
        "]\n",
        "preds   = classify_batch(paths, metas)\n",
        "print(\"Random batch indices:\", indices)\n",
        "print(\"Random batch predictions:\", preds)\n",
        "\n",
        "# ── Módulo 10 – Evaluación rápida con matriz de confusión y reporte de clasificación\n",
        "\n",
        "from sklearn.metrics import confusion_matrix, classification_report\n",
        "\n",
        "# 10.1 Configura cuántas muestras vas a evaluar\n",
        "N_EVAL = 100\n",
        "eval_indices = random.sample(range(len(df)), N_EVAL)\n",
        "\n",
        "# 10.2 Prepara rutas, metadatos y etiquetas verdaderas\n",
        "eval_paths = [\n",
        "    os.path.join(IMGS_DIR, df.iloc[i].image_path)\n",
        "    for i in eval_indices\n",
        "]\n",
        "eval_metas = [\n",
        "    {\n",
        "        'ID': df.iloc[i].ID,\n",
        "        'class': df.iloc[i]['class'],\n",
        "        'Width': df.iloc[i].Width,\n",
        "        'location': df.iloc[i].location\n",
        "    }\n",
        "    for i in eval_indices\n",
        "]\n",
        "eval_true = df.iloc[eval_indices]['label'].tolist()\n",
        "\n",
        "# 10.3 Ejecuta la predicción batch\n",
        "eval_preds = classify_batch(eval_paths, eval_metas)\n",
        "\n",
        "# 10.4 Imprime el classification report\n",
        "print(\"=== Classification Report ===\")\n",
        "print(classification_report(eval_true, eval_preds, zero_division=0, digits=4))\n",
        "\n",
        "# 10.5 Dibuja la matriz de confusión\n",
        "cm = confusion_matrix(eval_true, eval_preds)\n",
        "plt.figure(figsize=(8,6))\n",
        "plt.imshow(cm, interpolation='nearest', cmap=plt.cm.Blues)\n",
        "plt.title('Matriz de Confusión')\n",
        "plt.xlabel('Predicted label')\n",
        "plt.ylabel('True label')\n",
        "plt.colorbar()\n",
        "plt.tight_layout()\n",
        "plt.show()\n"
      ]
    }
  ],
  "metadata": {
    "accelerator": "GPU",
    "colab": {
      "gpuType": "T4",
      "provenance": [],
      "mount_file_id": "1iXbOK9dARwPQB5XU7hDswzEEDHsQQqdy",
      "authorship_tag": "ABX9TyNI0RXMS1VSZx6w1iXpu1zE",
      "include_colab_link": true
    },
    "kernelspec": {
      "display_name": "Python 3",
      "name": "python3"
    },
    "language_info": {
      "name": "python"
    }
  },
  "nbformat": 4,
  "nbformat_minor": 0
}